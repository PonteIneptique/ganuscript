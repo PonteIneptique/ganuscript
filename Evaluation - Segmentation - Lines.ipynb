{
 "cells": [
  {
   "cell_type": "code",
   "execution_count": 41,
   "id": "92f6f583",
   "metadata": {},
   "outputs": [
    {
     "name": "stdout",
     "output_type": "stream",
     "text": [
      "\\begin{tabular}{lrrr}\n",
      "\\toprule\n",
      "      mss &  delta-LinesFMeasure &  delta-MatchedPixelFMeasure &  delta-PixelFMeasure \\\\\n",
      "\\midrule\n",
      "125v-126r &                 0.28 &                        0.21 &                 0.24 \\\\\n",
      "163v-164r &                 0.31 &                        0.02 &                 0.25 \\\\\n",
      "245v-246r &                 0.00 &                       -0.04 &                -0.03 \\\\\n",
      "\\bottomrule\n",
      "\\end{tabular}\n",
      "\n"
     ]
    }
   ],
   "source": [
    "import pandas\n",
    "\n",
    "df = pandas.read_csv(\"./prediction/segmentation/results.csv\")\n",
    "df[\"color\"] = df[\"filename\"].str.contains(\"color\")\n",
    "df[\"mss\"] = df[\"filename\"].apply(lambda string: \"-\".join(string.split(\"-\")[:2]).split(\".\")[0])\n",
    "df = df.sort_values(by=[\"color\", \"mss\"])\n",
    "\n",
    "\n",
    "def compare(dataframe, measure):\n",
    "    metadata = dataframe[dataframe[\"color\"] == True]\n",
    "    colored = dataframe[dataframe[\"color\"] == True][measure]\n",
    "    microfilm = dataframe[dataframe[\"color\"] == False][measure]\n",
    "\n",
    "    arr = 100 * (colored.to_numpy() - microfilm.to_numpy())\n",
    "    \n",
    "    return pandas.DataFrame([\n",
    "        {f\"delta-{measure}\": score, \"mss\": row.mss}\n",
    "        for score, (_, row) in zip(arr, metadata.iterrows())\n",
    "    ])\n",
    "\n",
    "out = pandas.concat([\n",
    "    compare(df, \"LinesFMeasure\"),\n",
    "    compare(df, \"MatchedPixelFMeasure\"),\n",
    "    compare(df, \"PixelFMeasure\")\n",
    "], axis=1)[[\"mss\", \"delta-LinesFMeasure\", \"delta-MatchedPixelFMeasure\", \"delta-PixelFMeasure\"]]\n",
    "out.columns = [\"mss\", \"mss1\", \"mss1\", \"delta-LinesFMeasure\", \"delta-MatchedPixelFMeasure\", \"delta-PixelFMeasure\"]\n",
    "\n",
    "print(\n",
    "    out[[\"mss\", \"delta-LinesFMeasure\", \"delta-MatchedPixelFMeasure\", \"delta-PixelFMeasure\"]].to_latex(index=False)\n",
    ")"
   ]
  }
 ],
 "metadata": {
  "kernelspec": {
   "display_name": "Python 3",
   "language": "python",
   "name": "python3"
  },
  "language_info": {
   "codemirror_mode": {
    "name": "ipython",
    "version": 3
   },
   "file_extension": ".py",
   "mimetype": "text/x-python",
   "name": "python",
   "nbconvert_exporter": "python",
   "pygments_lexer": "ipython3",
   "version": "3.8.10"
  },
  "toc": {
   "base_numbering": 1,
   "nav_menu": {},
   "number_sections": true,
   "sideBar": true,
   "skip_h1_title": false,
   "title_cell": "Table of Contents",
   "title_sidebar": "Contents",
   "toc_cell": false,
   "toc_position": {},
   "toc_section_display": true,
   "toc_window_display": false
  }
 },
 "nbformat": 4,
 "nbformat_minor": 5
}
